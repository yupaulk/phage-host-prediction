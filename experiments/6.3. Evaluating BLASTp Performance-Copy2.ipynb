{
 "cells": [
  {
   "cell_type": "markdown",
   "id": "4a12837d",
   "metadata": {},
   "source": [
    "# Protein embeddings improve phage-host interaction prediction\n",
    "\n",
    "**Mark Edward M. Gonzales<sup>1, 2</sup>, Jennifer C. Ureta<sup>1, 2</sup> & Anish M.S. Shrestha<sup>1, 2</sup>**\n",
    "\n",
    "<sup>1</sup> Bioinformatics Laboratory, Advanced Research Institute for Informatics, Computing and Networking, De La Salle University, Manila, Philippines <br>\n",
    "<sup>2</sup> Department of Software Technology, College of Computer Studies, De La Salle University, Manila, Philippines \n",
    "\n",
    "{mark_gonzales, jennifer.ureta, anish.shrestha}@dlsu.edu.ph"
   ]
  },
  {
   "cell_type": "markdown",
   "id": "316d0829",
   "metadata": {},
   "source": [
    "<hr>"
   ]
  },
  {
   "cell_type": "markdown",
   "id": "2f37a0a5",
   "metadata": {},
   "source": [
    "<hr>"
   ]
  },
  {
   "cell_type": "code",
   "execution_count": 1,
   "id": "7fa52793",
   "metadata": {},
   "outputs": [
    {
     "name": "stderr",
     "output_type": "stream",
     "text": [
      "C:\\Users\\Edward\\anaconda3\\lib\\site-packages\\Bio\\SubsMat\\__init__.py:131: BiopythonDeprecationWarning: Bio.SubsMat has been deprecated, and we intend to remove it in a future release of Biopython. As an alternative, please consider using Bio.Align.substitution_matrices as a replacement, and contact the Biopython developers if you still need the Bio.SubsMat module.\n",
      "  BiopythonDeprecationWarning,\n"
     ]
    }
   ],
   "source": [
    "import math\n",
    "import pickle\n",
    "import os\n",
    "import warnings\n",
    "\n",
    "import pandas as pd\n",
    "import numpy as np\n",
    "import sklearn\n",
    "\n",
    "from imblearn.metrics import specificity_score\n",
    "from collections import OrderedDict\n",
    "from tqdm import tqdm\n",
    "\n",
    "from ConstantsUtil import ConstantsUtil\n",
    "from ClassificationUtil import ClassificationUtil\n",
    "import boeckaerts as RBP_f\n",
    "\n",
    "%load_ext autoreload\n",
    "%autoreload 2"
   ]
  },
  {
   "cell_type": "code",
   "execution_count": 2,
   "id": "19a7a935",
   "metadata": {},
   "outputs": [],
   "source": [
    "pd.set_option('display.max_rows', None)\n",
    "pd.set_option('display.max_columns', 50)\n",
    "\n",
    "pd.options.mode.chained_assignment = None\n",
    "\n",
    "with warnings.catch_warnings(): \n",
    "    warnings.filterwarnings(\"ignore\", category=sklearn.exceptions.UndefinedMetricWarning)"
   ]
  },
  {
   "cell_type": "code",
   "execution_count": 3,
   "id": "d93de941",
   "metadata": {},
   "outputs": [],
   "source": [
    "constants = ConstantsUtil()\n",
    "util = ClassificationUtil()"
   ]
  },
  {
   "cell_type": "markdown",
   "id": "e6c87f84",
   "metadata": {},
   "source": [
    "<hr>"
   ]
  },
  {
   "cell_type": "code",
   "execution_count": 4,
   "id": "ffe188fc",
   "metadata": {},
   "outputs": [
    {
     "name": "stdout",
     "output_type": "stream",
     "text": [
      "Constructing training and test sets...\n"
     ]
    }
   ],
   "source": [
    "X_train, y_train, X_test, y_test, rbp_embeddings = util.get_train_test_sets()"
   ]
  },
  {
   "cell_type": "markdown",
   "id": "aaf34157",
   "metadata": {},
   "source": [
    "<hr>"
   ]
  },
  {
   "cell_type": "code",
   "execution_count": null,
   "id": "be5965dc",
   "metadata": {},
   "outputs": [
    {
     "name": "stderr",
     "output_type": "stream",
     "text": [
      "  1%|▊                                                                                 | 2/200 [00:17<24:06,  7.31s/it]"
     ]
    }
   ],
   "source": [
    "highest_similarities = {}\n",
    "for index in tqdm(X_test.index[400:600]):\n",
    "    highest_similarities[index] = util.compare_seq_similarity(index, 'train-set')\n",
    "    \n",
    "with open(f'{constants.TEMP_FASTA_BLAST}/blast_similarities_3.pickle', 'wb') as file:\n",
    "    pickle.dump(highest_similarities, file, pickle.HIGHEST_PROTOCOL)"
   ]
  },
  {
   "cell_type": "markdown",
   "id": "c95b1359",
   "metadata": {},
   "source": [
    "<hr>"
   ]
  },
  {
   "cell_type": "markdown",
   "id": "4f958bf4",
   "metadata": {},
   "source": [
    "<hr>"
   ]
  },
  {
   "cell_type": "code",
   "execution_count": 22,
   "id": "09e29a9b",
   "metadata": {},
   "outputs": [
    {
     "name": "stderr",
     "output_type": "stream",
     "text": [
      "100%|███████████████████████████████████████████████████████████████████████████| 24752/24752 [01:04<00:00, 384.27it/s]\n"
     ]
    }
   ],
   "source": [
    "util.construct_fasta_file(rbp_embeddings.index, rbp_embeddings, 'all-rbps')"
   ]
  },
  {
   "cell_type": "markdown",
   "id": "0f66ec73",
   "metadata": {},
   "source": [
    "<hr>"
   ]
  },
  {
   "cell_type": "code",
   "execution_count": null,
   "id": "51bdbe61",
   "metadata": {},
   "outputs": [],
   "source": []
  }
 ],
 "metadata": {
  "kernelspec": {
   "display_name": "Python 3",
   "language": "python",
   "name": "python3"
  },
  "language_info": {
   "codemirror_mode": {
    "name": "ipython",
    "version": 3
   },
   "file_extension": ".py",
   "mimetype": "text/x-python",
   "name": "python",
   "nbconvert_exporter": "python",
   "pygments_lexer": "ipython3",
   "version": "3.7.15"
  }
 },
 "nbformat": 4,
 "nbformat_minor": 5
}
